{
  "cells": [
    {
      "cell_type": "markdown",
      "metadata": {},
      "source": [
        "## Testing various methods to expand dates using `pandas`\n",
        "\n",
        "Inspired by Stack Overflow: [Expanding pandas data frame with date range in columns](https://stackoverflow.com/questions/42151886/expanding-pandas-data-frame-with-date-range-in-columns)\n",
        "\n",
        "Note: using custom `Simulator` class to generate randomized data frames of different shapes and date window sizes and then apply different methods to expand the windows."
      ]
    },
    {
      "cell_type": "code",
      "execution_count": 1,
      "metadata": {
        "gather": {
          "logged": 1653911418006
        }
      },
      "outputs": [],
      "source": [
        "import pandas as pd\n",
        "from simulator import Simulator "
      ]
    },
    {
      "cell_type": "markdown",
      "metadata": {},
      "source": [
        "### Run Experiments\n",
        "\n",
        "Fixing a set number of output rows, but changing the number of input rows and varying the window size (number of periods) accordingly."
      ]
    },
    {
      "cell_type": "code",
      "execution_count": 2,
      "metadata": {},
      "outputs": [
        {
          "data": {
            "text/html": [
              "<div>\n",
              "<style scoped>\n",
              "    .dataframe tbody tr th:only-of-type {\n",
              "        vertical-align: middle;\n",
              "    }\n",
              "\n",
              "    .dataframe tbody tr th {\n",
              "        vertical-align: top;\n",
              "    }\n",
              "\n",
              "    .dataframe thead th {\n",
              "        text-align: right;\n",
              "    }\n",
              "</style>\n",
              "<table border=\"1\" class=\"dataframe\">\n",
              "  <thead>\n",
              "    <tr style=\"text-align: right;\">\n",
              "      <th></th>\n",
              "      <th>n_rows</th>\n",
              "      <th>n_periods</th>\n",
              "      <th>jwdink</th>\n",
              "      <th>TedPetrou</th>\n",
              "      <th>Gen</th>\n",
              "      <th>Gen2</th>\n",
              "      <th>robbie</th>\n",
              "    </tr>\n",
              "  </thead>\n",
              "  <tbody>\n",
              "    <tr>\n",
              "      <th>0</th>\n",
              "      <td>250</td>\n",
              "      <td>4000</td>\n",
              "      <td>6.629940</td>\n",
              "      <td>0.330650</td>\n",
              "      <td>0.641689</td>\n",
              "      <td>0.454512</td>\n",
              "      <td>0.284799</td>\n",
              "    </tr>\n",
              "    <tr>\n",
              "      <th>1</th>\n",
              "      <td>500</td>\n",
              "      <td>2000</td>\n",
              "      <td>3.214646</td>\n",
              "      <td>0.647250</td>\n",
              "      <td>1.179654</td>\n",
              "      <td>0.813019</td>\n",
              "      <td>0.342219</td>\n",
              "    </tr>\n",
              "    <tr>\n",
              "      <th>2</th>\n",
              "      <td>1000</td>\n",
              "      <td>1000</td>\n",
              "      <td>1.569295</td>\n",
              "      <td>1.275617</td>\n",
              "      <td>2.299192</td>\n",
              "      <td>1.601945</td>\n",
              "      <td>0.477208</td>\n",
              "    </tr>\n",
              "    <tr>\n",
              "      <th>3</th>\n",
              "      <td>2000</td>\n",
              "      <td>500</td>\n",
              "      <td>0.834599</td>\n",
              "      <td>2.570110</td>\n",
              "      <td>4.676334</td>\n",
              "      <td>3.244157</td>\n",
              "      <td>0.714648</td>\n",
              "    </tr>\n",
              "    <tr>\n",
              "      <th>4</th>\n",
              "      <td>5000</td>\n",
              "      <td>200</td>\n",
              "      <td>0.400368</td>\n",
              "      <td>6.095624</td>\n",
              "      <td>13.257479</td>\n",
              "      <td>9.591730</td>\n",
              "      <td>1.431086</td>\n",
              "    </tr>\n",
              "  </tbody>\n",
              "</table>\n",
              "</div>"
            ],
            "text/plain": [
              "   n_rows  n_periods    jwdink  TedPetrou        Gen      Gen2    robbie\n",
              "0     250       4000  6.629940   0.330650   0.641689  0.454512  0.284799\n",
              "1     500       2000  3.214646   0.647250   1.179654  0.813019  0.342219\n",
              "2    1000       1000  1.569295   1.275617   2.299192  1.601945  0.477208\n",
              "3    2000        500  0.834599   2.570110   4.676334  3.244157  0.714648\n",
              "4    5000        200  0.400368   6.095624  13.257479  9.591730  1.431086"
            ]
          },
          "execution_count": 2,
          "metadata": {},
          "output_type": "execute_result"
        }
      ],
      "source": [
        "# experiment settings\n",
        "n_final_rows = 1e6 # number of output rows\n",
        "n_row_list = [250, 500, 1000, 2000, 5000] # number of initial rows\n",
        "n_period_list = [int(n_final_rows/n) for n in n_row_list] # num periods per row\n",
        "n_sims = 10 # number of simulations for each n_row/n_period pair\n",
        "all_results = []\n",
        "\n",
        "# iterate through n_row/n_period pair\n",
        "for n_rows, n_periods in zip(n_row_list, n_period_list):\n",
        "\n",
        "    # initialize results dict\n",
        "    results = {\"n_rows\": n_rows,\n",
        "               \"n_periods\": n_periods}\n",
        "\n",
        "    # initialize Simulator and run\n",
        "    sim = Simulator(n_rows=n_rows, \n",
        "                    n_periods=n_periods,\n",
        "                    n_sims=n_sims)\n",
        "    sim.run(show_progress=False)\n",
        "\n",
        "    # compile simulation results as dataframe\n",
        "    sim_df = sim.get_results()\n",
        "\n",
        "    # update results\n",
        "    results.update(sim_df.mean().to_dict())\n",
        "    all_results.append(results)\n",
        "\n",
        "# compile results (in seconds)\n",
        "all_results = pd.DataFrame(all_results)\n",
        "all_results"
      ]
    }
  ],
  "metadata": {
    "kernelspec": {
      "display_name": "Python 3.8 - AzureML",
      "language": "python",
      "name": "python38-azureml"
    },
    "language_info": {
      "codemirror_mode": {
        "name": "ipython",
        "version": 3
      },
      "file_extension": ".py",
      "mimetype": "text/x-python",
      "name": "python",
      "nbconvert_exporter": "python",
      "pygments_lexer": "ipython3",
      "version": "3.8.5"
    },
    "microsoft": {
      "host": {
        "AzureML": {
          "notebookHasBeenCompleted": true
        }
      }
    },
    "nteract": {
      "version": "nteract-front-end@1.0.0"
    }
  },
  "nbformat": 4,
  "nbformat_minor": 2
}
